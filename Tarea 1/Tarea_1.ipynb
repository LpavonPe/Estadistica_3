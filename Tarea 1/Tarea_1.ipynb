{
 "cells": [
  {
   "cell_type": "markdown",
   "metadata": {},
   "source": [
    "### Tarea 1\n",
    "\n",
    "## *Luis Pavón*"
   ]
  },
  {
   "cell_type": "code",
   "execution_count": 1,
   "metadata": {},
   "outputs": [],
   "source": [
    "import pandas as pd\n",
    "import numpy as np\n",
    "import matplotlib.pyplot as plt\n",
    "from matplotlib import pyplot\n",
    "import seaborn as sns\n",
    "import warnings\n",
    "import itertools\n",
    "warnings.filterwarnings(\"ignore\")\n",
    "plt.style.use('fivethirtyeight')\n",
    "import statsmodels.api as sm\n",
    "from statsmodels.graphics.tsaplots import plot_acf\n",
    "from statsmodels.graphics.tsaplots import plot_pacf\n",
    "from statsmodels.tsa.stattools import adfuller\n",
    "from statsmodels.tsa.ar_model import AR\n",
    "from statsmodels.tsa.arima_model import ARMA\n",
    "\n",
    "from math import sqrt\n",
    "import matplotlib\n",
    "from random import random"
   ]
  },
  {
   "cell_type": "markdown",
   "metadata": {},
   "source": [
    "## ejercicio 5"
   ]
  },
  {
   "cell_type": "markdown",
   "metadata": {},
   "source": [
    "Dada la serie de tiempo:\n",
    "53,43,66,48,52,42,44,56,44,58,41,54,51,56,38,56,49,52,32,52,59,34,57,39,60,40,52,44,65,43\n",
    "\n",
    "\n",
    "a) Grafica la serie.\n",
    "\n",
    "\n",
    "b) Calcular $\\rho_k$ , para  k=0,1,2,3,4,5\n",
    "\n",
    "\n",
    "c) Calcular la PACF $\\hat{\\phi_{k,k}}$ , para k=0,1,2,3,4,5"
   ]
  },
  {
   "cell_type": "code",
   "execution_count": 2,
   "metadata": {},
   "outputs": [
    {
     "data": {
      "image/png": "[encoded data removed]",
      "text/plain": [
       "<Figure size 432x288 with 1 Axes>"
      ]
     },
     "metadata": {},
     "output_type": "display_data"
    }
   ],
   "source": [
    "#a)\n",
    "X_t=[53,43,66,48,52,42,44,56,44,58,41,54,51,56,38,56,49,52,32,52,59,34,57,39,60,40,52,44,65,43]\n",
    "\n",
    "\n",
    "plt.plot(X_t)\n",
    "plt.title('Serie de tiempo')\n",
    "plt.savefig('Serie.png',format='png')\n",
    "plt.show()\n"
   ]
  },
  {
   "cell_type": "code",
   "execution_count": 3,
   "metadata": {},
   "outputs": [],
   "source": [
    "# b)\n",
    "\n",
    "X_t_k=pd.DataFrame(X_t,columns=['X'])\n",
    "X_t_k['Xt-1']=X_t_k['X'].shift(1)\n",
    "X_t_k['Xt-2']=X_t_k['X'].shift(2)\n",
    "X_t_k['Xt-3']=X_t_k['X'].shift(3)\n",
    "X_t_k['Xt-4']=X_t_k['X'].shift(4)\n",
    "X_t_k['Xt-5']=X_t_k['X'].shift(5)\n"
   ]
  },
  {
   "cell_type": "code",
   "execution_count": 4,
   "metadata": {},
   "outputs": [
    {
     "data": {
      "text/html": [
       "<div>\n",
       "<style scoped>\n",
       "    .dataframe tbody tr th:only-of-type {\n",
       "        vertical-align: middle;\n",
       "    }\n",
       "\n",
       "    .dataframe tbody tr th {\n",
       "        vertical-align: top;\n",
       "    }\n",
       "\n",
       "    .dataframe thead th {\n",
       "        text-align: right;\n",
       "    }\n",
       "</style>\n",
       "<table border=\"1\" class=\"dataframe\">\n",
       "  <thead>\n",
       "    <tr style=\"text-align: right;\">\n",
       "      <th></th>\n",
       "      <th>X</th>\n",
       "      <th>Xt-1</th>\n",
       "      <th>Xt-2</th>\n",
       "      <th>Xt-3</th>\n",
       "      <th>Xt-4</th>\n",
       "      <th>Xt-5</th>\n",
       "    </tr>\n",
       "  </thead>\n",
       "  <tbody>\n",
       "    <tr>\n",
       "      <th>X</th>\n",
       "      <td>76.298851</td>\n",
       "      <td>-47.903941</td>\n",
       "      <td>24.666667</td>\n",
       "      <td>-27.349003</td>\n",
       "      <td>28.092308</td>\n",
       "      <td>-9.955000</td>\n",
       "    </tr>\n",
       "    <tr>\n",
       "      <th>Xt-1</th>\n",
       "      <td>-47.903941</td>\n",
       "      <td>77.541872</td>\n",
       "      <td>-46.000000</td>\n",
       "      <td>24.333333</td>\n",
       "      <td>-27.763077</td>\n",
       "      <td>26.963333</td>\n",
       "    </tr>\n",
       "    <tr>\n",
       "      <th>Xt-2</th>\n",
       "      <td>24.666667</td>\n",
       "      <td>-46.000000</td>\n",
       "      <td>71.259259</td>\n",
       "      <td>-44.663818</td>\n",
       "      <td>23.513846</td>\n",
       "      <td>-22.641667</td>\n",
       "    </tr>\n",
       "    <tr>\n",
       "      <th>Xt-3</th>\n",
       "      <td>-27.349003</td>\n",
       "      <td>24.333333</td>\n",
       "      <td>-44.663818</td>\n",
       "      <td>73.002849</td>\n",
       "      <td>-45.883077</td>\n",
       "      <td>22.496667</td>\n",
       "    </tr>\n",
       "    <tr>\n",
       "      <th>Xt-4</th>\n",
       "      <td>28.092308</td>\n",
       "      <td>-27.763077</td>\n",
       "      <td>23.513846</td>\n",
       "      <td>-45.883077</td>\n",
       "      <td>75.593846</td>\n",
       "      <td>-46.630000</td>\n",
       "    </tr>\n",
       "    <tr>\n",
       "      <th>Xt-5</th>\n",
       "      <td>-9.955000</td>\n",
       "      <td>26.963333</td>\n",
       "      <td>-22.641667</td>\n",
       "      <td>22.496667</td>\n",
       "      <td>-46.630000</td>\n",
       "      <td>75.173333</td>\n",
       "    </tr>\n",
       "  </tbody>\n",
       "</table>\n",
       "</div>"
      ],
      "text/plain": [
       "              X       Xt-1       Xt-2       Xt-3       Xt-4       Xt-5\n",
       "X     76.298851 -47.903941  24.666667 -27.349003  28.092308  -9.955000\n",
       "Xt-1 -47.903941  77.541872 -46.000000  24.333333 -27.763077  26.963333\n",
       "Xt-2  24.666667 -46.000000  71.259259 -44.663818  23.513846 -22.641667\n",
       "Xt-3 -27.349003  24.333333 -44.663818  73.002849 -45.883077  22.496667\n",
       "Xt-4  28.092308 -27.763077  23.513846 -45.883077  75.593846 -46.630000\n",
       "Xt-5  -9.955000  26.963333 -22.641667  22.496667 -46.630000  75.173333"
      ]
     },
     "execution_count": 4,
     "metadata": {},
     "output_type": "execute_result"
    }
   ],
   "source": [
    "Covs=X_t_k.cov()\n",
    "Covs"
   ]
  },
  {
   "cell_type": "code",
   "execution_count": 5,
   "metadata": {},
   "outputs": [
    {
     "data": {
      "text/plain": [
       "[-0.6227935476974266,\n",
       " 0.33452672244148296,\n",
       " -0.36644820116966775,\n",
       " 0.3699007378383708,\n",
       " -0.1314469043154543]"
      ]
     },
     "execution_count": 5,
     "metadata": {},
     "output_type": "execute_result"
    }
   ],
   "source": [
    "Rho_1=(Covs['X']['Xt-1'])/ ((X_t_k['X'].std())*(X_t_k['Xt-1'].std()))\n",
    "Rho_2=(Covs['X']['Xt-2'])/ ((X_t_k['X'].std())*(X_t_k['Xt-2'].std()))\n",
    "Rho_3=(Covs['X']['Xt-3'])/ ((X_t_k['X'].std())*(X_t_k['Xt-3'].std()))\n",
    "Rho_4=(Covs['X']['Xt-4'])/ ((X_t_k['X'].std())*(X_t_k['Xt-4'].std()))\n",
    "Rho_5=(Covs['X']['Xt-5'])/ ((X_t_k['X'].std())*(X_t_k['Xt-5'].std()))\n",
    "Rho_k=[Rho_1,Rho_2,Rho_3,Rho_4,Rho_5]\n",
    "\n",
    "#Complementar con texto\n",
    "Rho_k"
   ]
  },
  {
   "cell_type": "code",
   "execution_count": 6,
   "metadata": {},
   "outputs": [],
   "source": [
    "#Sigma\n",
    "sig_1_1=Rho_1\n",
    "sig_2_2=(Rho_2-sig_1_1*Rho_1)/(1-(sig_1_1*Rho_1))\n",
    "sig_2_1=sig_1_1-(sig_2_2*sig_1_1)\n",
    "sig_3_3=(Rho_3-((sig_2_1*Rho_2)+(sig_2_2*Rho_1)))/(1-((sig_2_1*Rho_1)+(sig_2_2*Rho_2)))\n",
    "sig_3_2=sig_2_2-(sig_3_3*sig_2_1)\n",
    "sig_3_1=sig_2_1-(sig_3_3*sig_2_2)\n",
    "sig_4_4=(Rho_4-((sig_3_1*Rho_3)+(sig_3_2*Rho_2)+(sig_3_3*Rho_1)))/(1-((sig_3_1*Rho_1)+(sig_3_2*Rho_2)+(sig_3_3*Rho_3)))\n",
    "sig_4_3=sig_3_3-(sig_4_4*sig_3_1)\n",
    "sig_4_2=sig_3_2-(sig_4_4*sig_3_2)\n",
    "sig_4_1=sig_3_1-(sig_4_4*sig_3_3)\n",
    "sig_5_5=(Rho_5-((sig_4_1*Rho_4)+(sig_4_2*Rho_3)+(sig_4_3*Rho_2)+(sig_4_4*Rho_1)))/(1-((sig_4_1*Rho_1)+(sig_4_2*Rho_2)+(sig_4_3*Rho_3)+(sig_4_4*Rho_4)))\n",
    "\n",
    "#Complementar con texto"
   ]
  },
  {
   "cell_type": "markdown",
   "metadata": {},
   "source": [
    "### Ejercicio 10"
   ]
  },
  {
   "cell_type": "code",
   "execution_count": 23,
   "metadata": {},
   "outputs": [],
   "source": [
    "## Genera 1000 observaciones de los siguientes modelos\n",
    "\n",
    "#A\n",
    "W=np.random.randn(1000)\n",
    "X_t_1=np.zeros(1000)\n",
    "\n",
    "for t in range(1,len(W)):\n",
    "    X_t_1[t]=(0.5)*X_t_1[t-1]+W[t]\n",
    "    \n",
    "#B  \n",
    "W=np.random.randn(1000)\n",
    "X_t_2=np.zeros(1001)\n",
    "\n",
    "for t in range(2,len(W)):\n",
    "    X_t_2[t]=(0.25)*X_t_1[t-1]+(0.3)*X_t_1[t-2]+W[t]\n",
    "    \n",
    "#C\n",
    "W=np.random.randn(1000)\n",
    "X_t_3=np.zeros(1001)\n",
    "\n",
    "for t in range(1,len(W)):\n",
    "    X_t_3[t]=(0.13)*W[t-1]+W[t]\n",
    "    \n",
    "    \n",
    "#D\n",
    "W=np.random.randn(1000)\n",
    "X_t_4=np.zeros(1001)\n",
    "\n",
    "for t in range(2,len(W)):\n",
    "    X_t_4[t]=(0.23)*W[t-1]+(0.3)*W[t-2]+W[t]"
   ]
  },
  {
   "cell_type": "code",
   "execution_count": 16,
   "metadata": {
    "scrolled": true
   },
   "outputs": [
    {
     "data": {
      "image/png": "[encoded data removed]",
      "text/plain": [
       "<Figure size 432x288 with 2 Axes>"
      ]
     },
     "metadata": {},
     "output_type": "display_data"
    }
   ],
   "source": [
    "\n",
    "\n",
    "from statsmodels.graphics.tsaplots import plot_acf\n",
    "from statsmodels.graphics.tsaplots import plot_pacf\n",
    "\n",
    "pyplot.figure()\n",
    "\n",
    "pyplot.subplot(211)\n",
    "plot_acf(X_t_1, ax=pyplot.gca(), lags = 30)\n",
    "pyplot.subplot(212)\n",
    "plot_pacf(X_t_1 ,ax=pyplot.gca(), lags = 30)\n",
    "pyplot.savefig('ACF_PACF_1.png', format='png')\n",
    "pyplot.show()\n",
    "\n"
   ]
  },
  {
   "cell_type": "code",
   "execution_count": 17,
   "metadata": {},
   "outputs": [
    {
     "data": {
      "image/png": "[encoded data removed]",
      "text/plain": [
       "<Figure size 432x288 with 2 Axes>"
      ]
     },
     "metadata": {},
     "output_type": "display_data"
    }
   ],
   "source": [
    "\n",
    "\n",
    "from statsmodels.graphics.tsaplots import plot_acf\n",
    "from statsmodels.graphics.tsaplots import plot_pacf\n",
    "\n",
    "pyplot.figure()\n",
    "\n",
    "pyplot.subplot(211)\n",
    "plot_acf(X_t_2, ax=pyplot.gca(), lags = 30)\n",
    "pyplot.subplot(212)\n",
    "plot_pacf(X_t_2 ,ax=pyplot.gca(), lags = 30)\n",
    "pyplot.savefig('ACF_PACF_2.png', format='png')\n",
    "pyplot.show()\n",
    "\n"
   ]
  },
  {
   "cell_type": "code",
   "execution_count": 25,
   "metadata": {},
   "outputs": [
    {
     "data": {
      "image/png": "[encoded data removed]",
      "text/plain": [
       "<Figure size 432x288 with 2 Axes>"
      ]
     },
     "metadata": {},
     "output_type": "display_data"
    }
   ],
   "source": [
    "\n",
    "\n",
    "from statsmodels.graphics.tsaplots import plot_acf\n",
    "from statsmodels.graphics.tsaplots import plot_pacf\n",
    "\n",
    "pyplot.figure()\n",
    "\n",
    "pyplot.subplot(211)\n",
    "plot_acf(X_t_3, ax=pyplot.gca(), lags = 30)\n",
    "pyplot.subplot(212)\n",
    "plot_pacf(X_t_3 ,ax=pyplot.gca(), lags = 30)\n",
    "pyplot.savefig('ACF_PACF_3.png', format='png')\n",
    "pyplot.show()\n",
    "\n"
   ]
  },
  {
   "cell_type": "code",
   "execution_count": 26,
   "metadata": {},
   "outputs": [
    {
     "data": {
      "image/png": "[encoded data removed]",
      "text/plain": [
       "<Figure size 432x288 with 2 Axes>"
      ]
     },
     "metadata": {},
     "output_type": "display_data"
    }
   ],
   "source": [
    "\n",
    "\n",
    "from statsmodels.graphics.tsaplots import plot_acf\n",
    "from statsmodels.graphics.tsaplots import plot_pacf\n",
    "\n",
    "pyplot.figure()\n",
    "\n",
    "pyplot.subplot(211)\n",
    "plot_acf(X_t_4, ax=pyplot.gca(), lags = 30)\n",
    "pyplot.subplot(212)\n",
    "plot_pacf(X_t_4 ,ax=pyplot.gca(), lags = 30)\n",
    "pyplot.savefig('ACF_PACF_4.png', format='png')\n",
    "pyplot.show()\n",
    "\n"
   ]
  },
  {
   "cell_type": "code",
   "execution_count": 27,
   "metadata": {},
   "outputs": [],
   "source": [
    "#Calculo de ACF\n",
    "Rho_k=np.zeros(15)\n",
    "phi=0.5 \n",
    "\n",
    "for i in range(15):\n",
    "    Rho_k[i]=phi**i\n",
    "\n",
    "phi=np.zeros((15,15))\n",
    "\n"
   ]
  },
  {
   "cell_type": "code",
   "execution_count": null,
   "metadata": {},
   "outputs": [],
   "source": [
    "def PACF(n):  ##Función para calculo de PACF pendiente\n",
    "    Rho_k=np.zeros(n)\n",
    "    phi_n=0.5  #Cambiar nombre\n",
    "    for i in range(1,n):\n",
    "        Rho_k[i-1]=phi_n**i\n",
    "    phi=np.zeros((n,n))\n",
    "    phi[0][0]=Rho_k[0]\n",
    "    suma=0\n",
    "    suma_2=0\n",
    "    for k in range(1,n):\n",
    "        for j in range(1,k):\n",
    "            if j==k:\n",
    "                for l in range(1,i+1):\n",
    "                    suma= phi[i][l]*Rho_k[i+1-l]+suma\n",
    "                    suma_2=phi[i][l]*Rho_k[l]+suma_2\n",
    "                phi[1][1]=(Rho_k[2]-suma)/(1-suma_2) \n",
    "    return phi, Rho_k"
   ]
  }
 ],
 "metadata": {
  "kernelspec": {
   "display_name": "Python 3",
   "language": "python",
   "name": "python3"
  },
  "language_info": {
   "codemirror_mode": {
    "name": "ipython",
    "version": 3
   },
   "file_extension": ".py",
   "mimetype": "text/x-python",
   "name": "python",
   "nbconvert_exporter": "python",
   "pygments_lexer": "ipython3",
   "version": "3.6.5"
  }
 },
 "nbformat": 4,
 "nbformat_minor": 2
}
